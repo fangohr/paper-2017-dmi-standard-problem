{
 "cells": [
  {
   "cell_type": "markdown",
   "metadata": {},
   "source": [
    "# One-dimensional problems\n",
    "\n",
    "We propose two different one-dimensional problems, that relax in:\n",
    "\n",
    "1. Quasi-uniform state (uniform state with magnetisation tilting at the boundaries)\n",
    "2. Helical state\n",
    "\n",
    "The simulated material is FeGe with material parameters:\n",
    "\n",
    "- $M_\\text{s} = 384 \\,\\text{kA}\\,\\text{m}^{-1}$\n",
    "- $A = 8.78 \\,\\text{pJ}\\,\\text{m}^{-1}$\n",
    "- $D = 1.58 \\,\\text{mJ}\\,\\text{m}^{-2}$\n",
    "\n",
    "## Quasi-ferromagnetic state\n",
    "\n",
    "### Simulation\n",
    "We simulate a $100 \\,\\text{nm}$ one dimensional sample with $(5 \\,\\text{nm}, 5 \\,\\text{nm}, 5 \\,\\text{nm})$ discretisation. More precisely, we relax the $(0, 0, 1)$ magnetisation configuration and add the uniaxial anisotropy term to the Hamiltonian with $K=0.51 \\,\\text{MJ}\\,\\text{m}^{-3}$ in the $u=(0, 0, 1)$ direction."
   ]
  },
  {
   "cell_type": "code",
   "execution_count": 25,
   "metadata": {},
   "outputs": [
    {
     "name": "stdout",
     "output_type": "stream",
     "text": [
      "2017/11/2 12:43: Calling OOMMF (quasi-ferromagnetic/quasi-ferromagnetic.mif) ... [0.8s]\n"
     ]
    },
    {
     "name": "stderr",
     "output_type": "stream",
     "text": [
      "/usr/local/lib/python3.5/dist-packages/oommfodt/oommfodt.py:114: UserWarning: Pandas doesn't allow columns to be created via a new attribute name - see https://pandas.pydata.org/pandas-docs/stable/indexing.html#attribute-access\n",
      "  df.units = dict(zip(columns, units))\n"
     ]
    }
   ],
   "source": [
    "import oommfc as oc\n",
    "import discretisedfield as df\n",
    "import numpy as np\n",
    "import scipy.optimize\n",
    "import scipy.integrate\n",
    "import matplotlib.pyplot as plt\n",
    "%matplotlib inline\n",
    "\n",
    "# Geometry parameters\n",
    "L = 100e-9 # sample length (nm)\n",
    "d = 5e-9  # discretisation (nm)\n",
    "\n",
    "# Material parameters\n",
    "Ms = 3.84e5  # magnetisation saturation (A/m)\n",
    "A = 8.78e-12  # exchange energy constant (J/m)\n",
    "D = 1.58e-3  # DMI energy constant (J/m**2)\n",
    "K = 0.51e6  # uniaxial anisotropy constant (J/m**3)\n",
    "u = (0, 0, 1)  # easy axis\n",
    "\n",
    "# Define mesh\n",
    "mesh = oc.Mesh(p1=(-L/2, 0, 0), p2=(L/2, d, d), cell=(d, d, d))\n",
    "\n",
    "# Define system\n",
    "system = oc.System(name=\"quasi-ferromagnetic\")\n",
    "system.hamiltonian = oc.Exchange(A=A) + oc.DMI(D=D, kind='bulk') + oc.UniaxialAnisotropy(K1=K, u=u)\n",
    "system.m = df.Field(mesh, value=(0, 0, 1), norm=Ms)\n",
    "\n",
    "md = oc.MinDriver()\n",
    "md.drive(system)"
   ]
  },
  {
   "cell_type": "markdown",
   "metadata": {},
   "source": [
    "After the system is relaxed, we can extract and plot the magnetisation components:"
   ]
  },
  {
   "cell_type": "code",
   "execution_count": 31,
   "metadata": {},
   "outputs": [],
   "source": [
    "my_simulation = []\n",
    "mz_simulation = []\n",
    "x_simulation = []\n",
    "for coord in mesh.coordinates:\n",
    "    x_simulation.append(coord[0]/1e-9)\n",
    "    my_simulation.append(system.m(coord)[1]/Ms)\n",
    "    mz_simulation.append(system.m(coord)[2]/Ms)"
   ]
  },
  {
   "cell_type": "markdown",
   "metadata": {},
   "source": [
    "### Analytic solution\n",
    "\n",
    "The analytic solution for the quasi-ferromagnetic state can be obtained by solving the second-order boundary value problem defined as\n",
    "\n",
    "$$\\frac{d^{2}\\theta}{dx^{2}} = \\frac{\\cos\\theta\\sin\\theta}{\\Delta^{2}}$$\n",
    "$$\\frac{d\\theta}{dx} = -\\frac{1}{\\xi}$$\n",
    "\n",
    "where $\\Delta = \\sqrt{A/K}$ and $\\xi = 2A/D$. To solve it, we perform the shooting method."
   ]
  },
  {
   "cell_type": "code",
   "execution_count": 34,
   "metadata": {},
   "outputs": [
    {
     "data": {
      "text/plain": [
       "<matplotlib.legend.Legend at 0x7f12759c5c88>"
      ]
     },
     "execution_count": 34,
     "metadata": {},
     "output_type": "execute_result"
    },
    {
     "data": {
      "image/png": "[encoded data removed]",
      "text/plain": [
       "<matplotlib.figure.Figure at 0x7f1275eb1908>"
      ]
     },
     "metadata": {},
     "output_type": "display_data"
    }
   ],
   "source": [
    "delta = np.sqrt(A/K)\n",
    "xi = 2*A/D\n",
    "\n",
    "\n",
    "def ode_1d(theta, x_array):\n",
    "    return np.array([theta[1], np.cos(theta[0])*np.sin(theta[0])/delta**2])\n",
    "\n",
    "\n",
    "def error(dtheta_guess):\n",
    "    solution = scipy.integrate.odeint(ode_1d, np.array([np.arcsin(-delta/xi), dthetadr_guess/xi]), x_array) \n",
    "    return solution[-1,0] - np.arcsin(delta/xi)\n",
    "\n",
    "x_array = np.linspace(-L/2, L/2, 300)\n",
    "\n",
    "dtheta_guess_range = np.linspace(0.9, 1.1, 100)\n",
    "\n",
    "errors = []\n",
    "for dtheta_guess in dtheta_guess_range:\n",
    "    errors.append(error(dtheta_guess))\n",
    "\n",
    "# find the root of the residual function, i.e. the zero crossing, use the scipy.brentq method for this purpose\n",
    "dtheta_0 = scipy.optimize.brentq(residual, 0.9, 1.1)\n",
    "\n",
    "# plug the found solution for the missing boundary condition into the ODE solver\n",
    "m_analytic = scipy.integrate.odeint(ode_1d, np.array([np.arcsin(-delta/xi), dtheta_0/xi]), x_array)\n",
    "\n",
    "plt.figure(figsize=(8, 6))\n",
    "# Analytic result\n",
    "plt.plot(x_array/1e-9, np.sin(m_analytic[:, 0]), 'b', label=r'$m_y$ ODE')\n",
    "plt.plot(x_array/1e-9, np.cos(m_analytic[:, 0]), 'r', label=r'$m_z$ ODE')\n",
    "# Simulation result\n",
    "plt.plot(x_simulation, my_simulation, 'bx', label=r'$m_y sim$')\n",
    "plt.plot(x_simulation, mz_simulation, 'rx', label=r'$m_z$ sim')\n",
    "\n",
    "plt.xlim([-L/2e-9, L/2e-9])\n",
    "plt.xlabel('x (nm)')\n",
    "plt.ylabel('m')\n",
    "plt.legend(loc=(0.02,0.4))"
   ]
  },
  {
   "cell_type": "markdown",
   "metadata": {
    "collapsed": true
   },
   "source": [
    "## Helix"
   ]
  },
  {
   "cell_type": "code",
   "execution_count": 19,
   "metadata": {},
   "outputs": [
    {
     "name": "stdout",
     "output_type": "stream",
     "text": [
      "2017/11/1 13:51: Calling OOMMF (onedhelix/onedhelix.mif) ... [0.9s]\n"
     ]
    },
    {
     "name": "stderr",
     "output_type": "stream",
     "text": [
      "/usr/local/lib/python3.5/dist-packages/oommfodt/oommfodt.py:114: UserWarning: Pandas doesn't allow columns to be created via a new attribute name - see https://pandas.pydata.org/pandas-docs/stable/indexing.html#attribute-access\n",
      "  df.units = dict(zip(columns, units))\n"
     ]
    },
    {
     "data": {
      "text/plain": [
       "(-1.75e-07, 1.75e-07)"
      ]
     },
     "execution_count": 19,
     "metadata": {},
     "output_type": "execute_result"
    },
    {
     "data": {
      "image/png": "[encoded data removed]",
      "text/plain": [
       "<matplotlib.figure.Figure at 0x7fb872f45748>"
      ]
     },
     "metadata": {},
     "output_type": "display_data"
    }
   ],
   "source": [
    "L = 350e-9 # sample length in nm\n",
    "\n",
    "mesh = oc.Mesh(p1=(-L/2, 0, 0), p2=(L/2, 5e-9, 5e-9), cell=(5e-9, 5e-9, 5e-9))\n",
    "\n",
    "system = oc.System(name=\"onedhelix\")\n",
    "\n",
    "system.hamiltonian = oc.Exchange(A=8.78e-12) + oc.DMI(D=1.58e-3, kind='bulk')\n",
    "\n",
    "system.m = df.Field(mesh, value=(0, 0, 1))\n",
    "\n",
    "md = oc.MinDriver()\n",
    "md.drive(system)\n",
    "\n",
    "x = []\n",
    "mz = []\n",
    "for coord in mesh.coordinates:\n",
    "    x.append(coord[0])\n",
    "    mz.append(system.m(coord)[2])\n",
    "    \n",
    "plt.plot(x, mz)\n",
    "plt.xlabel(\"x\")\n",
    "plt.ylabel(\"mz\")\n",
    "plt.xlim(-175e-9, 175e-9)  # Fourier (paper discussion)"
   ]
  },
  {
   "cell_type": "code",
   "execution_count": null,
   "metadata": {},
   "outputs": [],
   "source": []
  }
 ],
 "metadata": {
  "kernelspec": {
   "display_name": "Python 2",
   "language": "python",
   "name": "python2"
  },
  "language_info": {
   "codemirror_mode": {
    "name": "ipython",
    "version": 3
   },
   "file_extension": ".py",
   "mimetype": "text/x-python",
   "name": "python",
   "nbconvert_exporter": "python",
   "pygments_lexer": "ipython3",
   "version": "3.5.2"
  }
 },
 "nbformat": 4,
 "nbformat_minor": 2
}
